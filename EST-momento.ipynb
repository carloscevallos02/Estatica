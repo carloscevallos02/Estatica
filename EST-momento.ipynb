{
 "cells": [
  {
   "cell_type": "code",
   "execution_count": 18,
   "metadata": {},
   "outputs": [],
   "source": [
    "import numpy as np #importar libreria matematica\n",
    "import matplotlib.pyplot as plt #libreria de plots"
   ]
  },
  {
   "cell_type": "markdown",
   "metadata": {},
   "source": [
    "# ESTATICA\n",
    "## EJERCICIO EJEMPLO 2-6\n",
    "\n",
    "![title](EST/E-sample2-6.png)\n",
    "\n",
    "> La puerta OA es levantada por el cable AB, que pasas por las poleas con fricción despreciable ilustradas en el punto B. La tensión en el cable T es la misma a lo largo del cable. La fuerza del cable, aplicada en el punto A, causa un momento $M_O^T$ alrededor del punto O. <br> Dibujar la relación $\\frac{M_O^T}T$ como función de la elevación de puerta utilizando el ángulo $\\theta$ en el rango de $0 \\leq \\theta \\leq 90^o$\n",
    "\n",
    "### DCL OA\n",
    "\n",
    "![title](EST/E-sample2-6_dcl.png)\n",
    "<br>deducción en el aula de clase<br>\n",
    "\n",
    "$$\\frac{M_O^T}T = \\frac{0.2*cos(\\theta)}{\\sqrt{0.41-0.4*sin(\\theta)}} $$\n"
   ]
  },
  {
   "cell_type": "code",
   "execution_count": 19,
   "metadata": {},
   "outputs": [
    {
     "data": {
      "text/plain": [
       "<function matplotlib.pyplot.show(close=None, block=None)>"
      ]
     },
     "execution_count": 19,
     "metadata": {},
     "output_type": "execute_result"
    },
    {
     "data": {
      "image/png": "[encoded data removed]",
      "text/plain": [
       "<Figure size 432x288 with 1 Axes>"
      ]
     },
     "metadata": {
      "needs_background": "light"
     },
     "output_type": "display_data"
    }
   ],
   "source": [
    "th = np.arange(0,90,1)\n",
    "vth = np.array(np.deg2rad(th))\n",
    "R = (0.2*np.cos(vth))/(np.sqrt(0.41-0.4*np.sin(vth)))\n",
    "#plot\n",
    "plt.scatter(th,R)\n",
    "plt.title('relación')\n",
    "plt.xlabel('theta[deg]')\n",
    "plt.ylabel('M/T [m]')\n",
    "plt.show\n"
   ]
  },
  {
   "cell_type": "code",
   "execution_count": null,
   "metadata": {},
   "outputs": [],
   "source": []
  },
  {
   "cell_type": "code",
   "execution_count": null,
   "metadata": {},
   "outputs": [],
   "source": []
  },
  {
   "cell_type": "code",
   "execution_count": null,
   "metadata": {},
   "outputs": [],
   "source": []
  }
 ],
 "metadata": {
  "kernelspec": {
   "display_name": "Python 3",
   "language": "python",
   "name": "python3"
  },
  "language_info": {
   "codemirror_mode": {
    "name": "ipython",
    "version": 3
   },
   "file_extension": ".py",
   "mimetype": "text/x-python",
   "name": "python",
   "nbconvert_exporter": "python",
   "pygments_lexer": "ipython3",
   "version": "3.8.5"
  }
 },
 "nbformat": 4,
 "nbformat_minor": 4
}
