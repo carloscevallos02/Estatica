{
 "cells": [
  {
   "cell_type": "code",
   "execution_count": null,
   "metadata": {},
   "outputs": [],
   "source": [
    "import numpy as np"
   ]
  },
  {
   "cell_type": "markdown",
   "metadata": {},
   "source": [
    "# DEBER\n",
    "## PAR - RESULTANTES\n",
    "\n",
    "Por medio de la utilización del concepto de par de fuerzas y la utilización de fuerza - par \n",
    "\n",
    "![title](EST/E-parM2-192.png)\n",
    "\n",
    "> El brazo AB rota en el rango de $0 \\leq \\theta \\leq 180[deg]$. El resorte se encuentra en su longitud natural cuando $\\theta=90[deg]$. Determine como una función de $\\theta$ el momento alrededor de O producido por la fuerza elástica aplicada en B. Graficar las componenetes x, y, z de $M_{O}$ y encuentre el valor máximo abosluto de cada componente."
   ]
  },
  {
   "cell_type": "code",
   "execution_count": null,
   "metadata": {},
   "outputs": [],
   "source": [
    "#datos\n",
    "th=np.arange(0,180,1)\n",
    "vth=np.array(np.deg2rad(th))\n",
    "lo=2.4 #longitud natural resorte [in]\n",
    "k=15 #rigidez del resorte [lb/in]\n",
    "#analisis\n"
   ]
  }
 ],
 "metadata": {
  "kernelspec": {
   "display_name": "Python 3",
   "language": "python",
   "name": "python3"
  },
  "language_info": {
   "codemirror_mode": {
    "name": "ipython",
    "version": 3
   },
   "file_extension": ".py",
   "mimetype": "text/x-python",
   "name": "python",
   "nbconvert_exporter": "python",
   "pygments_lexer": "ipython3",
   "version": "3.8.8"
  }
 },
 "nbformat": 4,
 "nbformat_minor": 4
}
