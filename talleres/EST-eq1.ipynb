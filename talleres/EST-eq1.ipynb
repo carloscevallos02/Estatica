{
 "cells": [
  {
   "cell_type": "code",
   "execution_count": null,
   "id": "94e8398e-08e1-4b62-b8f9-efbf5ec4f3bf",
   "metadata": {},
   "outputs": [],
   "source": [
    "import numpy as np\n",
    "import matplotliblib.pyplot as plt"
   ]
  },
  {
   "cell_type": "markdown",
   "id": "d0c27ca4-0f9c-481b-9c2f-5661d353189a",
   "metadata": {},
   "source": [
    "# Ej1\n",
    "\n",
    "La grúa móvil ilustrada en la figura está diseñana para una capacidad máxima de 10[kN] y, está montada sobre una viga I que tiene una masa de 200[kg]. Utilizar gravedad $g=10[m/s^2]$<br> \n",
    "![title](E-eqM3-119.png)\n",
    "- ¿Cuál es la magnitud de la reacción total del eje en A en función de la distancia x recorrida por la grúa (0.2<x<3.8 [m])?\n",
    "- ¿Cuál es la magnitud tanto para x como para y?\n",
    "- Determinar el valor mínimo de la rección total y en que lugar (x) se produce\n",
    "- ¿Qué valor de R usted tomaría para diseñar el eje en A?\n",
    "\n",
    "## Análisis\n",
    "\n",
    "Se realiza el DCL de la viga solamente. En A se tiene un empotramiento. y en el punto donde se une la cuerda con el ángulo de $30^o$ una articulación.La grúa tiene dos normales que sumadas dan $W=10{kN}$.<br> La gravedad hacia abajo, en y negativo. <br>Sea m la masa de la viga, $M_A$ el momento horario del empotramiento, Ry_A dirigido hacia arriba, Rx_A dirigido hacia la izquierda y W la capacidad de carga de la grúa, se tiene: \n",
    "$$\\Sigma\\vec{F_y}=T.sen(30^o)-m.g-W+Ry_A$$\n",
    "$$\\Sigma\\vec{F_y}=T.cos(30^o)-Rx_A$$\n",
    "$$\\Sigma\\vec{M_A}=-T.cos(30^o)-M_A+W.x+mg.2$$\n",
    "\n",
    "Con el análisis anterior, se plantea el equilibrio de la viga y se tiene que:\n",
    "$$\\Sigma\\vec{F_y}=0$$\n",
    "$$\\Sigma\\vec{F_x}=0$$\n",
    "$$\\Sigma\\vec{M_A}=0$$\n",
    "\n",
    "Por lo que:\n",
    "$$\\Sigma\\vec{F_y}=T.sen(30^o)-m.g-W+Ry_A=0$$\n",
    "$$\\Sigma\\vec{F_x}=T.cos(30^o)-Rx_A=0$$\n",
    "$$\\Sigma\\vec{M_A}=-T.cos(30^o)-M_A+W.x+mg.2=0$$\n",
    "\n",
    "## Resolución\n",
    "\n",
    "**En las ecuaciones tengo 3 incógnitas M, T, Ry y solo 2 ecuaciones por lo que el ejercicio no se puede resolver.**"
   ]
  },
  {
   "cell_type": "code",
   "execution_count": null,
   "id": "72f3d598-8d58-4960-b7d5-4209bed4ff0d",
   "metadata": {},
   "outputs": [],
   "source": [
    "#en base al análisis\n",
    "x = np.arange(0.2,3.8,0.2) #rango de trabajo de la grúa\n",
    "Rx=T*np.cos(deg2rad(30)) #reacción en x\n",
    "\n",
    "#En las ecuaciones tengo 3 incógnitas M, T, Ry y solo 2 ecuaciones por lo que el ejercicio no se puede resolver."
   ]
  }
 ],
 "metadata": {
  "kernelspec": {
   "display_name": "Python 3",
   "language": "python",
   "name": "python3"
  },
  "language_info": {
   "codemirror_mode": {
    "name": "ipython",
    "version": 3
   },
   "file_extension": ".py",
   "mimetype": "text/x-python",
   "name": "python",
   "nbconvert_exporter": "python",
   "pygments_lexer": "ipython3",
   "version": "3.8.8"
  }
 },
 "nbformat": 4,
 "nbformat_minor": 5
}
